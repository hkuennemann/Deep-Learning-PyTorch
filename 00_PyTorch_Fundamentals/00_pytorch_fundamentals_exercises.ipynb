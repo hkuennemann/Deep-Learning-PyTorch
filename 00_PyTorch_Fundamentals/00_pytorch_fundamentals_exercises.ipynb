{
  "nbformat": 4,
  "nbformat_minor": 0,
  "metadata": {
    "colab": {
      "name": "00_pytorch_fundamentals_exercises.ipynb",
      "provenance": [],
      "gpuType": "T4"
    },
    "kernelspec": {
      "name": "python3",
      "display_name": "Python 3"
    },
    "language_info": {
      "name": "python"
    },
    "accelerator": "GPU"
  },
  "cells": [
    {
      "cell_type": "markdown",
      "source": [
        "# 00. PyTorch Fundamentals Exercises\n",
        "\n",
        "### 1. Documentation reading\n",
        "\n",
        "A big part of deep learning (and learning to code in general) is getting familiar with the documentation of a certain framework you're using. We'll be using the PyTorch documentation a lot throughout the rest of this course. So I'd recommend spending 10-minutes reading the following (it's okay if you don't get some things for now, the focus is not yet full understanding, it's awareness):\n",
        "  * The documentation on [`torch.Tensor`](https://pytorch.org/docs/stable/tensors.html#torch-tensor).\n",
        "  * The documentation on [`torch.cuda`](https://pytorch.org/docs/master/notes/cuda.html#cuda-semantics).\n",
        "\n"
      ],
      "metadata": {
        "id": "AzDBM_v4iMe7"
      }
    },
    {
      "cell_type": "code",
      "source": [
        "# No code solution (reading)"
      ],
      "metadata": {
        "id": "bGD0oD8Kizak"
      },
      "execution_count": 1,
      "outputs": []
    },
    {
      "cell_type": "markdown",
      "source": [
        "### 2. Create a random tensor with shape `(7, 7)`.\n"
      ],
      "metadata": {
        "id": "__iXqqz-ioUJ"
      }
    },
    {
      "cell_type": "code",
      "source": [
        "# Import torch\n",
        "import torch\n",
        "\n",
        "# Create random tensor\n",
        "RAND_TENSOR_A = torch.rand(size = (7,7))\n",
        "RAND_TENSOR_A"
      ],
      "metadata": {
        "id": "6pUq9Dc8i2L7",
        "outputId": "1e5eb851-2baa-47ea-88b7-ba2d77d529f1",
        "colab": {
          "base_uri": "https://localhost:8080/"
        }
      },
      "execution_count": 2,
      "outputs": [
        {
          "output_type": "execute_result",
          "data": {
            "text/plain": [
              "tensor([[0.6476, 0.2819, 0.1279, 0.3505, 0.3369, 0.7051, 0.6128],\n",
              "        [0.7933, 0.7169, 0.2996, 0.4558, 0.8037, 0.4997, 0.3477],\n",
              "        [0.4871, 0.7900, 0.0230, 0.9613, 0.9950, 0.0957, 0.6894],\n",
              "        [0.3863, 0.2963, 0.6608, 0.1173, 0.1654, 0.3781, 0.7718],\n",
              "        [0.2263, 0.3262, 0.2855, 0.2431, 0.6809, 0.8927, 0.0108],\n",
              "        [0.5424, 0.3820, 0.7109, 0.2174, 0.6224, 0.1279, 0.0108],\n",
              "        [0.4464, 0.5599, 0.8986, 0.7407, 0.3329, 0.3519, 0.7260]])"
            ]
          },
          "metadata": {},
          "execution_count": 2
        }
      ]
    },
    {
      "cell_type": "markdown",
      "source": [
        "### 3. Perform a matrix multiplication on the tensor from 2 with another random tensor with shape `(1, 7)` (hint: you may have to transpose the second tensor)."
      ],
      "metadata": {
        "id": "9-XxvRLfiqkR"
      }
    },
    {
      "cell_type": "code",
      "source": [
        "# Create another random tensor\n",
        "RAND_TENSOR_B = torch.rand(size = (1,7))\n",
        "\n",
        "# Perform matrix multiplication\n",
        "TENSOR_MM_A = torch.matmul(RAND_TENSOR_A, RAND_TENSOR_B.T)\n",
        "TENSOR_MM_A"
      ],
      "metadata": {
        "id": "NcLqR0Sbi_vT",
        "outputId": "9b9230cd-6183-43e9-eece-9473ec06d907",
        "colab": {
          "base_uri": "https://localhost:8080/"
        }
      },
      "execution_count": 3,
      "outputs": [
        {
          "output_type": "execute_result",
          "data": {
            "text/plain": [
              "tensor([[1.3689],\n",
              "        [1.5510],\n",
              "        [0.9748],\n",
              "        [1.0950],\n",
              "        [1.2296],\n",
              "        [1.1179],\n",
              "        [1.4116]])"
            ]
          },
          "metadata": {},
          "execution_count": 3
        }
      ]
    },
    {
      "cell_type": "markdown",
      "source": [
        "### 4. Set the random seed to `0` and do 2 & 3 over again.\n",
        "\n",
        "The output should be:\n",
        "```\n",
        "(tensor([[1.8542],\n",
        "         [1.9611],\n",
        "         [2.2884],\n",
        "         [3.0481],\n",
        "         [1.7067],\n",
        "         [2.5290],\n",
        "         [1.7989]]), torch.Size([7, 1]))\n",
        "```"
      ],
      "metadata": {
        "id": "eiutdKUFiryU"
      }
    },
    {
      "cell_type": "code",
      "source": [
        "# Set manual seed\n",
        "RANDOM_SEED = 0\n",
        "torch.manual_seed(RANDOM_SEED)\n",
        "\n",
        "# Create two random tensors\n",
        "RAND_TENSOR_C = torch.rand(size = (7,7))\n",
        "RAND_TENSOR_D = torch.rand(size = (1,7))\n",
        "\n",
        "# Matrix multiply tensors\n",
        "TENSOR_MM_B = torch.matmul(RAND_TENSOR_C, RAND_TENSOR_D.T)\n",
        "TENSOR_MM_B, TENSOR_MM_B.shape"
      ],
      "metadata": {
        "id": "D-lOWI_1jRMm",
        "outputId": "af684d4a-caea-47b5-abfa-3d94e58eb9c0",
        "colab": {
          "base_uri": "https://localhost:8080/"
        }
      },
      "execution_count": 4,
      "outputs": [
        {
          "output_type": "execute_result",
          "data": {
            "text/plain": [
              "(tensor([[1.8542],\n",
              "         [1.9611],\n",
              "         [2.2884],\n",
              "         [3.0481],\n",
              "         [1.7067],\n",
              "         [2.5290],\n",
              "         [1.7989]]),\n",
              " torch.Size([7, 1]))"
            ]
          },
          "metadata": {},
          "execution_count": 4
        }
      ]
    },
    {
      "cell_type": "markdown",
      "source": [
        "### 5. Speaking of random seeds, we saw how to set it with `torch.manual_seed()` but is there a GPU equivalent? (hint: you'll need to look into the documentation for `torch.cuda` for this one)\n",
        "  * If there is, set the GPU random seed to `1234`."
      ],
      "metadata": {
        "id": "ezY6ks9Cis37"
      }
    },
    {
      "cell_type": "code",
      "source": [
        "# Set random seed on the GPU\n",
        "RANDOM_SEED_GPU = 1234\n",
        "torch.cuda.manual_seed(RANDOM_SEED_GPU)"
      ],
      "metadata": {
        "id": "_LKWcfSTjp00"
      },
      "execution_count": 5,
      "outputs": []
    },
    {
      "cell_type": "markdown",
      "source": [
        "\n",
        "### 6. Create two random tensors of shape `(2, 3)` and send them both to the GPU (you'll need access to a GPU for this). Set `torch.manual_seed(1234)` when creating the tensors (this doesn't have to be the GPU random seed). The output should be something like:\n",
        "\n",
        "```\n",
        "Device: cuda\n",
        "(tensor([[0.0290, 0.4019, 0.2598],\n",
        "         [0.3666, 0.0583, 0.7006]], device='cuda:0'),\n",
        " tensor([[0.0518, 0.4681, 0.6738],\n",
        "         [0.3315, 0.7837, 0.5631]], device='cuda:0'))\n",
        "```"
      ],
      "metadata": {
        "id": "Ir9qSaj6it4n"
      }
    },
    {
      "cell_type": "code",
      "source": [
        "# Set random seed\n",
        "torch.manual_seed(1234)\n",
        "\n",
        "# Check for access to GPU\n",
        "print(torch.cuda.is_available())\n",
        "device = \"cuda\" if torch.cuda.is_available() else \"cpu\"\n",
        "\n",
        "# Create two random tensors on GPU\n",
        "TENSOR_GPU_A = torch.rand(size = (2,3)).to(device)\n",
        "TENSOR_GPU_B = torch.rand(size = (2,3)).to(device)\n",
        "\n",
        "TENSOR_GPU_A, TENSOR_GPU_B"
      ],
      "metadata": {
        "id": "azXExiFZj5nm",
        "outputId": "d24b48cc-f1fa-4bf7-92ca-699d9b997e40",
        "colab": {
          "base_uri": "https://localhost:8080/"
        }
      },
      "execution_count": 6,
      "outputs": [
        {
          "output_type": "stream",
          "name": "stdout",
          "text": [
            "False\n"
          ]
        },
        {
          "output_type": "execute_result",
          "data": {
            "text/plain": [
              "(tensor([[0.0290, 0.4019, 0.2598],\n",
              "         [0.3666, 0.0583, 0.7006]]),\n",
              " tensor([[0.0518, 0.4681, 0.6738],\n",
              "         [0.3315, 0.7837, 0.5631]]))"
            ]
          },
          "metadata": {},
          "execution_count": 6
        }
      ]
    },
    {
      "cell_type": "markdown",
      "source": [
        "\n",
        "### 7. Perform a matrix multiplication on the tensors you created in 6 (again, you may have to adjust the shapes of one of the tensors).\n",
        "\n",
        "The output should look like:\n",
        "```\n",
        "(tensor([[0.3647, 0.4709],\n",
        "         [0.5184, 0.5617]], device='cuda:0'), torch.Size([2, 2]))\n",
        "```"
      ],
      "metadata": {
        "id": "5TlAxeiSiu1y"
      }
    },
    {
      "cell_type": "code",
      "source": [
        "# Perform matmul on tensor_A and tensor_B\n",
        "TENSOR_MM_GPU = torch.matmul(TENSOR_GPU_A, TENSOR_GPU_B.T)\n",
        "TENSOR_MM_GPU"
      ],
      "metadata": {
        "id": "fAeG7ox0lHEO",
        "outputId": "b4d2ac95-7e04-4f05-d0c4-02f3f8679b4b",
        "colab": {
          "base_uri": "https://localhost:8080/"
        }
      },
      "execution_count": 7,
      "outputs": [
        {
          "output_type": "execute_result",
          "data": {
            "text/plain": [
              "tensor([[0.3647, 0.4709],\n",
              "        [0.5184, 0.5617]])"
            ]
          },
          "metadata": {},
          "execution_count": 7
        }
      ]
    },
    {
      "cell_type": "markdown",
      "source": [
        "### 8. Find the maximum and minimum values of the output of 7."
      ],
      "metadata": {
        "id": "G7qfa5CSivwg"
      }
    },
    {
      "cell_type": "code",
      "source": [
        "# Find max\n",
        "print(f\"Maximum: {torch.max(TENSOR_MM_GPU)}\")\n",
        "\n",
        "# Find min\n",
        "print(f\"Minimum: {torch.min(TENSOR_MM_GPU)}\")"
      ],
      "metadata": {
        "id": "Fu8_3mZpllOd",
        "outputId": "0e0aae06-3a57-4a26-add8-b204d98f62bd",
        "colab": {
          "base_uri": "https://localhost:8080/"
        }
      },
      "execution_count": 8,
      "outputs": [
        {
          "output_type": "stream",
          "name": "stdout",
          "text": [
            "Maximum: 0.5617256760597229\n",
            "Minimum: 0.3647301495075226\n"
          ]
        }
      ]
    },
    {
      "cell_type": "markdown",
      "source": [
        "### 9. Find the maximum and minimum index values of the output of 7."
      ],
      "metadata": {
        "id": "wrTj5FgNiw47"
      }
    },
    {
      "cell_type": "code",
      "source": [
        "# Find arg max\n",
        "print(f\"Arg max: {torch.argmax(TENSOR_MM_GPU)}\")\n",
        "\n",
        "# Find arg min\n",
        "print(f\"Arg min: {torch.argmin(TENSOR_MM_GPU)}\")"
      ],
      "metadata": {
        "id": "CCEKt4K2lsfQ",
        "outputId": "6d5fe6be-a436-401e-81b7-cc9554f8ce44",
        "colab": {
          "base_uri": "https://localhost:8080/"
        }
      },
      "execution_count": 9,
      "outputs": [
        {
          "output_type": "stream",
          "name": "stdout",
          "text": [
            "Arg max: 3\n",
            "Arg min: 0\n"
          ]
        }
      ]
    },
    {
      "cell_type": "markdown",
      "source": [
        "\n",
        "### 10. Make a random tensor with shape `(1, 1, 1, 10)` and then create a new tensor with all the `1` dimensions removed to be left with a tensor of shape `(10)`. Set the seed to `7` when you create it and print out the first tensor and it's shape as well as the second tensor and it's shape.\n",
        "\n",
        "The output should look like:\n",
        "\n",
        "```\n",
        "tensor([[[[0.5349, 0.1988, 0.6592, 0.6569, 0.2328, 0.4251, 0.2071, 0.6297,\n",
        "           0.3653, 0.8513]]]]) torch.Size([1, 1, 1, 10])\n",
        "tensor([0.5349, 0.1988, 0.6592, 0.6569, 0.2328, 0.4251, 0.2071, 0.6297, 0.3653,\n",
        "        0.8513]) torch.Size([10])\n",
        "```"
      ],
      "metadata": {
        "id": "hmeybz4uixy7"
      }
    },
    {
      "cell_type": "code",
      "source": [
        "# Set seed\n",
        "torch.manual_seed(7)\n",
        "\n",
        "# Create random tensor\n",
        "RAND_TENSOR_E = torch.rand(size = (1,1, 1, 10))\n",
        "\n",
        "# Remove single dimensions\n",
        "RAND_TENSOR_SQUEEZED = RAND_TENSOR_E.squeeze()\n",
        "\n",
        "# Print out tensors and their shapes\n",
        "print(RAND_TENSOR_E, RAND_TENSOR_E.shape)\n",
        "print(RAND_TENSOR_SQUEEZED, RAND_TENSOR_SQUEEZED.shape)"
      ],
      "metadata": {
        "id": "TQ9zbRzVl1jV",
        "outputId": "32efbc0f-cd6c-4903-bf05-007e3f35c465",
        "colab": {
          "base_uri": "https://localhost:8080/"
        }
      },
      "execution_count": 10,
      "outputs": [
        {
          "output_type": "stream",
          "name": "stdout",
          "text": [
            "tensor([[[[0.5349, 0.1988, 0.6592, 0.6569, 0.2328, 0.4251, 0.2071, 0.6297,\n",
            "           0.3653, 0.8513]]]]) torch.Size([1, 1, 1, 10])\n",
            "tensor([0.5349, 0.1988, 0.6592, 0.6569, 0.2328, 0.4251, 0.2071, 0.6297, 0.3653,\n",
            "        0.8513]) torch.Size([10])\n"
          ]
        }
      ]
    }
  ]
}